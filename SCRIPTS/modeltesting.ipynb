{
 "cells": [
  {
   "cell_type": "code",
   "execution_count": 198,
   "id": "b27458ae",
   "metadata": {},
   "outputs": [],
   "source": [
    "# imports \n",
    "import pandas as pd\n",
    "import matplotlib.pyplot as plt\n",
    "from sklearn.linear_model import LinearRegression \n",
    "from sklearn.model_selection import train_test_split\n",
    "from sklearn.metrics import mean_squared_error, r2_score\n",
    "from scipy.stats import zscore\n",
    "import numpy as np\n",
    "from scipy.optimize import curve_fit"
   ]
  },
  {
   "cell_type": "code",
   "execution_count": 176,
   "id": "84f3dc3f",
   "metadata": {},
   "outputs": [],
   "source": [
    "# load in clean data\n",
    "data = pd.read_csv('preprocessed_data.csv')\n"
   ]
  },
  {
   "cell_type": "code",
   "execution_count": 177,
   "id": "9fa36a03",
   "metadata": {},
   "outputs": [],
   "source": [
    "# drop some of the rows that just categorize the states\n",
    "drop_list = ['Middle Atlantic', 'East North Central', 'West North Central', 'South Atlantic', 'East South Central', \n",
    "             'West South Central', 'Mountain', 'Pacific Contiguous', 'Pacific Noncontiguous']\n",
    "\n",
    "mask = ~data['State'].isin(drop_list)\n",
    "filtered_data = data[mask]"
   ]
  },
  {
   "cell_type": "code",
   "execution_count": null,
   "id": "02e75acd",
   "metadata": {},
   "outputs": [],
   "source": [
    "# grabbing the data we will use for training and testing our model (2001-2021)\n",
    "drop_cols = ['2022', '2023', '2024', '2025']\n",
    "test_data = filtered_data.drop(drop_cols, axis = 1)"
   ]
  },
  {
   "cell_type": "code",
   "execution_count": null,
   "id": "83cd13ac",
   "metadata": {},
   "outputs": [
    {
     "data": {
      "text/html": [
       "<div>\n",
       "<style scoped>\n",
       "    .dataframe tbody tr th:only-of-type {\n",
       "        vertical-align: middle;\n",
       "    }\n",
       "\n",
       "    .dataframe tbody tr th {\n",
       "        vertical-align: top;\n",
       "    }\n",
       "\n",
       "    .dataframe thead th {\n",
       "        text-align: right;\n",
       "    }\n",
       "</style>\n",
       "<table border=\"1\" class=\"dataframe\">\n",
       "  <thead>\n",
       "    <tr style=\"text-align: right;\">\n",
       "      <th></th>\n",
       "      <th>State</th>\n",
       "      <th>2001</th>\n",
       "      <th>2002</th>\n",
       "      <th>2003</th>\n",
       "      <th>2004</th>\n",
       "      <th>2005</th>\n",
       "      <th>2006</th>\n",
       "      <th>2007</th>\n",
       "      <th>2008</th>\n",
       "      <th>2009</th>\n",
       "      <th>...</th>\n",
       "      <th>2012</th>\n",
       "      <th>2013</th>\n",
       "      <th>2014</th>\n",
       "      <th>2015</th>\n",
       "      <th>2016</th>\n",
       "      <th>2017</th>\n",
       "      <th>2018</th>\n",
       "      <th>2019</th>\n",
       "      <th>2020</th>\n",
       "      <th>2021</th>\n",
       "    </tr>\n",
       "  </thead>\n",
       "  <tbody>\n",
       "    <tr>\n",
       "      <th>0</th>\n",
       "      <td>New England</td>\n",
       "      <td>12.095000</td>\n",
       "      <td>11.244167</td>\n",
       "      <td>11.701667</td>\n",
       "      <td>11.916667</td>\n",
       "      <td>13.445833</td>\n",
       "      <td>15.995833</td>\n",
       "      <td>16.713333</td>\n",
       "      <td>17.689167</td>\n",
       "      <td>17.500833</td>\n",
       "      <td>...</td>\n",
       "      <td>15.728333</td>\n",
       "      <td>16.233333</td>\n",
       "      <td>17.853333</td>\n",
       "      <td>19.433333</td>\n",
       "      <td>18.850833</td>\n",
       "      <td>19.435833</td>\n",
       "      <td>20.630833</td>\n",
       "      <td>21.145833</td>\n",
       "      <td>21.290833</td>\n",
       "      <td>21.546667</td>\n",
       "    </tr>\n",
       "    <tr>\n",
       "      <th>1</th>\n",
       "      <td>Connecticut</td>\n",
       "      <td>10.923333</td>\n",
       "      <td>10.973333</td>\n",
       "      <td>11.363333</td>\n",
       "      <td>11.640000</td>\n",
       "      <td>13.667500</td>\n",
       "      <td>16.931667</td>\n",
       "      <td>19.153333</td>\n",
       "      <td>19.617500</td>\n",
       "      <td>20.380833</td>\n",
       "      <td>...</td>\n",
       "      <td>17.385000</td>\n",
       "      <td>17.614167</td>\n",
       "      <td>19.815833</td>\n",
       "      <td>20.983333</td>\n",
       "      <td>20.117500</td>\n",
       "      <td>20.355833</td>\n",
       "      <td>21.271667</td>\n",
       "      <td>22.000000</td>\n",
       "      <td>22.824167</td>\n",
       "      <td>22.007500</td>\n",
       "    </tr>\n",
       "    <tr>\n",
       "      <th>2</th>\n",
       "      <td>Maine</td>\n",
       "      <td>13.180000</td>\n",
       "      <td>12.865000</td>\n",
       "      <td>12.436667</td>\n",
       "      <td>12.191667</td>\n",
       "      <td>13.361667</td>\n",
       "      <td>13.808333</td>\n",
       "      <td>16.561667</td>\n",
       "      <td>16.260833</td>\n",
       "      <td>15.618333</td>\n",
       "      <td>...</td>\n",
       "      <td>14.653333</td>\n",
       "      <td>14.356667</td>\n",
       "      <td>15.313333</td>\n",
       "      <td>15.612500</td>\n",
       "      <td>15.840833</td>\n",
       "      <td>15.966667</td>\n",
       "      <td>16.876667</td>\n",
       "      <td>17.914167</td>\n",
       "      <td>16.811667</td>\n",
       "      <td>17.041667</td>\n",
       "    </tr>\n",
       "    <tr>\n",
       "      <th>3</th>\n",
       "      <td>Massachusetts</td>\n",
       "      <td>12.490000</td>\n",
       "      <td>10.942500</td>\n",
       "      <td>11.614167</td>\n",
       "      <td>11.756667</td>\n",
       "      <td>13.442500</td>\n",
       "      <td>16.589167</td>\n",
       "      <td>16.235833</td>\n",
       "      <td>17.595833</td>\n",
       "      <td>16.888333</td>\n",
       "      <td>...</td>\n",
       "      <td>14.931667</td>\n",
       "      <td>15.830833</td>\n",
       "      <td>17.413333</td>\n",
       "      <td>19.821667</td>\n",
       "      <td>19.049167</td>\n",
       "      <td>20.095000</td>\n",
       "      <td>21.630833</td>\n",
       "      <td>21.942500</td>\n",
       "      <td>22.017500</td>\n",
       "      <td>22.919167</td>\n",
       "    </tr>\n",
       "    <tr>\n",
       "      <th>4</th>\n",
       "      <td>New Hampshire</td>\n",
       "      <td>12.460000</td>\n",
       "      <td>11.905833</td>\n",
       "      <td>12.008333</td>\n",
       "      <td>12.535833</td>\n",
       "      <td>13.557500</td>\n",
       "      <td>14.722500</td>\n",
       "      <td>14.890000</td>\n",
       "      <td>15.716667</td>\n",
       "      <td>16.405833</td>\n",
       "      <td>...</td>\n",
       "      <td>16.095833</td>\n",
       "      <td>16.365000</td>\n",
       "      <td>17.588333</td>\n",
       "      <td>18.494167</td>\n",
       "      <td>18.406667</td>\n",
       "      <td>19.242500</td>\n",
       "      <td>19.730000</td>\n",
       "      <td>20.105833</td>\n",
       "      <td>19.080833</td>\n",
       "      <td>19.915000</td>\n",
       "    </tr>\n",
       "  </tbody>\n",
       "</table>\n",
       "<p>5 rows × 22 columns</p>\n",
       "</div>"
      ],
      "text/plain": [
       "           State       2001       2002       2003       2004       2005  \\\n",
       "0    New England  12.095000  11.244167  11.701667  11.916667  13.445833   \n",
       "1    Connecticut  10.923333  10.973333  11.363333  11.640000  13.667500   \n",
       "2          Maine  13.180000  12.865000  12.436667  12.191667  13.361667   \n",
       "3  Massachusetts  12.490000  10.942500  11.614167  11.756667  13.442500   \n",
       "4  New Hampshire  12.460000  11.905833  12.008333  12.535833  13.557500   \n",
       "\n",
       "        2006       2007       2008       2009  ...       2012       2013  \\\n",
       "0  15.995833  16.713333  17.689167  17.500833  ...  15.728333  16.233333   \n",
       "1  16.931667  19.153333  19.617500  20.380833  ...  17.385000  17.614167   \n",
       "2  13.808333  16.561667  16.260833  15.618333  ...  14.653333  14.356667   \n",
       "3  16.589167  16.235833  17.595833  16.888333  ...  14.931667  15.830833   \n",
       "4  14.722500  14.890000  15.716667  16.405833  ...  16.095833  16.365000   \n",
       "\n",
       "        2014       2015       2016       2017       2018       2019  \\\n",
       "0  17.853333  19.433333  18.850833  19.435833  20.630833  21.145833   \n",
       "1  19.815833  20.983333  20.117500  20.355833  21.271667  22.000000   \n",
       "2  15.313333  15.612500  15.840833  15.966667  16.876667  17.914167   \n",
       "3  17.413333  19.821667  19.049167  20.095000  21.630833  21.942500   \n",
       "4  17.588333  18.494167  18.406667  19.242500  19.730000  20.105833   \n",
       "\n",
       "        2020       2021  \n",
       "0  21.290833  21.546667  \n",
       "1  22.824167  22.007500  \n",
       "2  16.811667  17.041667  \n",
       "3  22.017500  22.919167  \n",
       "4  19.080833  19.915000  \n",
       "\n",
       "[5 rows x 22 columns]"
      ]
     },
     "execution_count": 179,
     "metadata": {},
     "output_type": "execute_result"
    }
   ],
   "source": [
    "# checking test data\n",
    "test_data.head(5)"
   ]
  },
  {
   "cell_type": "code",
   "execution_count": null,
   "id": "8e567190",
   "metadata": {},
   "outputs": [],
   "source": [
    "# calculate the outliers for every year to see if any states are consistent outliers\n",
    "year_list  = ['2001', '2002', '2003', '2004', '2005', '2006', '2007', '2008', '2009', '2010', \n",
    " '2011', '2012', '2013', '2014', '2015', '2016', '2017', '2018', '2019', '2020', '2021']\n",
    "outlier_dict = {}\n",
    "for year in year_list:\n",
    "    temp_df = test_data[['State', year]]\n",
    "    temp_df['z_score'] = zscore(temp_df[year])\n",
    "    threshold = 2\n",
    "    outliers_zscore = temp_df[abs(temp_df['z_score']) > threshold]\n",
    "    outlier_dict.update({year : outliers_zscore['State'].tolist()})"
   ]
  },
  {
   "cell_type": "code",
   "execution_count": null,
   "id": "8f26a447",
   "metadata": {},
   "outputs": [
    {
     "data": {
      "text/plain": [
       "{'2001': ['New York', 'Hawaii'],\n",
       " '2002': ['New York', 'Hawaii'],\n",
       " '2003': ['New York', 'Hawaii'],\n",
       " '2004': ['New York', 'Hawaii'],\n",
       " '2005': ['New York', 'Hawaii'],\n",
       " '2006': ['Hawaii'],\n",
       " '2007': ['Connecticut', 'Hawaii'],\n",
       " '2008': ['Hawaii'],\n",
       " '2009': ['Connecticut', 'Hawaii'],\n",
       " '2010': ['Connecticut', 'Hawaii'],\n",
       " '2011': ['Hawaii'],\n",
       " '2012': ['Hawaii'],\n",
       " '2013': ['Hawaii'],\n",
       " '2014': ['Hawaii'],\n",
       " '2015': ['Connecticut', 'Hawaii'],\n",
       " '2016': ['Hawaii'],\n",
       " '2017': ['Alaska', 'Hawaii'],\n",
       " '2018': ['Hawaii'],\n",
       " '2019': ['Alaska', 'Hawaii'],\n",
       " '2020': ['Connecticut', 'Alaska', 'Hawaii'],\n",
       " '2021': ['Hawaii']}"
      ]
     },
     "execution_count": 182,
     "metadata": {},
     "output_type": "execute_result"
    }
   ],
   "source": [
    "#print outliers \n",
    "print(outlier_dict)"
   ]
  },
  {
   "cell_type": "code",
   "execution_count": 183,
   "id": "f045df6c",
   "metadata": {},
   "outputs": [],
   "source": [
    "# cutting hawaii and alaska as outliers\n",
    "drop_states = ['Hawaii', 'Alaska']\n",
    "\n",
    "mask = ~test_data['State'].isin(drop_list)\n",
    "test_data = test_data[mask]"
   ]
  },
  {
   "cell_type": "code",
   "execution_count": 185,
   "id": "b2716bce",
   "metadata": {},
   "outputs": [],
   "source": [
    "# making a Contiguous US average row to use\n",
    "# making a list of the average values \n",
    "av_dict = {'State': 'Cont United States'}\n",
    "for year in year_list:\n",
    "    av_dict.update({year : [np.nanmean(test_data[year].tolist())]})\n",
    "\n",
    "cont_us_row = pd.DataFrame.from_dict(av_dict)\n",
    "\n",
    "# adding the new row to the data frame\n",
    "test_data = pd.concat([test_data, cont_us_row], ignore_index= True )\n"
   ]
  },
  {
   "cell_type": "code",
   "execution_count": 188,
   "id": "1d813119",
   "metadata": {},
   "outputs": [],
   "source": [
    "# make a training and testing sets \n",
    "year_2000 = [1, 2, 3, 4, 5, 6, 7, 8, 9, 10, 11, 12, 13, 14, 15, 16, 17, 18, 19, 20, 21]\n",
    "\n",
    "x_train, x_test, y_train, y_test = train_test_split(year_2000, test_data.iloc[-1].tolist()[1:], test_size = 0.2)"
   ]
  },
  {
   "cell_type": "code",
   "execution_count": null,
   "id": "495007b5",
   "metadata": {},
   "outputs": [],
   "source": [
    "# establish our linear regression model\n",
    "model = LinearRegression()"
   ]
  },
  {
   "cell_type": "code",
   "execution_count": null,
   "id": "5b1eae7b",
   "metadata": {},
   "outputs": [],
   "source": [
    "# reshape our x data since we need it to be 2D for the model\n",
    "x_train1 = np.array(x_train).reshape(-1, 1)\n",
    "x_test1 = np.array(x_test).reshape(-1, 1)"
   ]
  },
  {
   "cell_type": "code",
   "execution_count": null,
   "id": "8c3ac6e6",
   "metadata": {},
   "outputs": [],
   "source": [
    "# conduct the model fit\n",
    "reg = model.fit(x_train1, y_train)"
   ]
  },
  {
   "cell_type": "code",
   "execution_count": null,
   "id": "f6c49d2e",
   "metadata": {},
   "outputs": [
    {
     "data": {
      "text/plain": [
       "0.9742594822214176"
      ]
     },
     "execution_count": 193,
     "metadata": {},
     "output_type": "execute_result"
    }
   ],
   "source": [
    "# R^2 on the test data\n",
    "print(reg.score(x_test1, y_test))"
   ]
  },
  {
   "cell_type": "code",
   "execution_count": 194,
   "id": "9d8d669e",
   "metadata": {},
   "outputs": [
    {
     "name": "stdout",
     "output_type": "stream",
     "text": [
      "0.13453766233708078\n"
     ]
    }
   ],
   "source": [
    "# calculating the mean squared error\n",
    "y_pred = model.predict(x_test1)\n",
    "mse = mean_squared_error(y_test, y_pred)\n",
    "print(mse)"
   ]
  },
  {
   "cell_type": "code",
   "execution_count": null,
   "id": "ce2b9e15",
   "metadata": {},
   "outputs": [
    {
     "name": "stdout",
     "output_type": "stream",
     "text": [
      "[-0.01344365  0.61869213  7.13522098]\n"
     ]
    }
   ],
   "source": [
    "# next we will do the 2nd degree polynomial regression using numpy polyfit\n",
    "coefs= np.polyfit(x_train, y_train, 2)\n",
    "print(coefs)"
   ]
  },
  {
   "cell_type": "code",
   "execution_count": null,
   "id": "31432245",
   "metadata": {},
   "outputs": [
    {
     "name": "stdout",
     "output_type": "stream",
     "text": [
      "0.9609542740422237\n"
     ]
    }
   ],
   "source": [
    "# finding R-squared on test data\n",
    "poly_func = np.poly1d(coefs)\n",
    "\n",
    "y_pred2 = poly_func(x_test)\n",
    "\n",
    "r_squared = r2_score(y_test, y_pred2)\n",
    "print(r_squared)"
   ]
  },
  {
   "cell_type": "code",
   "execution_count": 223,
   "id": "9bed6516",
   "metadata": {},
   "outputs": [
    {
     "name": "stdout",
     "output_type": "stream",
     "text": [
      "0.204079837857201\n"
     ]
    }
   ],
   "source": [
    "# finding mean squared error\n",
    "mse2 = mean_squared_error(y_test, y_pred2)\n",
    "print(mse2)"
   ]
  },
  {
   "cell_type": "code",
   "execution_count": 226,
   "id": "5fd4c313",
   "metadata": {},
   "outputs": [],
   "source": [
    "# reshaping all the x data to be 2d to run the model for the graph\n",
    "x_2d = np.array(year_2000).reshape(-1, 1)"
   ]
  },
  {
   "cell_type": "code",
   "execution_count": null,
   "id": "41992cf0",
   "metadata": {},
   "outputs": [
    {
     "data": {
      "text/plain": [
       "Text(0.5, 1.0, 'Linear Regression on Average Energy Cost in the Continental US')"
      ]
     },
     "execution_count": 227,
     "metadata": {},
     "output_type": "execute_result"
    },
    {
     "data": {
      "image/png": "[encoded data removed]",
      "text/plain": [
       "<Figure size 800x600 with 1 Axes>"
      ]
     },
     "metadata": {},
     "output_type": "display_data"
    }
   ],
   "source": [
    "# graph of the linear regression model\n",
    "# making the y values for the linear regression on train and test x values \n",
    "lin_pred = model.predict(x_2d)\n",
    "\n",
    "# plt the linear regression with the original data \n",
    "plt.figure(figsize = (8, 6))\n",
    "plt.scatter(year_2000, test_data.iloc[-1].tolist()[1:], color = 'black', label = 'True Cost')\n",
    "plt.plot(year_2000, lin_pred, color = 'red', label = 'Linear Regression')\n",
    "plt.xlabel('Year Since 2000')\n",
    "plt.ylabel('Average Energy Cost in kw/hr')\n",
    "plt.title('Linear Regression on Average Energy Cost in the Continental US')"
   ]
  },
  {
   "cell_type": "code",
   "execution_count": null,
   "id": "bf1623a8",
   "metadata": {},
   "outputs": [
    {
     "data": {
      "text/plain": [
       "Text(0.5, 1.0, '2nd Degree Polynomial Regression on Average Energy Cost in the Continental US')"
      ]
     },
     "execution_count": 228,
     "metadata": {},
     "output_type": "execute_result"
    },
    {
     "data": {
      "image/png": "[encoded data removed]",
      "text/plain": [
       "<Figure size 800x600 with 1 Axes>"
      ]
     },
     "metadata": {},
     "output_type": "display_data"
    }
   ],
   "source": [
    "# graph of the 2nd degree polynomial model\n",
    "\n",
    "# making the y values for the polynomial fit\n",
    "poly_pred = poly_func(year_2000)\n",
    "\n",
    "# plot the figure with the 2nd degree polynomial \n",
    "plt.figure(figsize = (8, 6))\n",
    "plt.scatter(year_2000, test_data.iloc[-1].tolist()[1:], color = 'black', label = 'True Cost')\n",
    "plt.plot(year_2000, poly_pred, color = 'blue', label = 'Polynomial Regression')\n",
    "plt.xlabel('Year Since 2000')\n",
    "plt.ylabel('Average Energy Cost in kw/hr')\n",
    "plt.title('2nd Degree Polynomial Regression on Average Energy Cost in the Continental US')"
   ]
  }
 ],
 "metadata": {
  "kernelspec": {
   "display_name": "pysparkenv",
   "language": "python",
   "name": "python3"
  },
  "language_info": {
   "codemirror_mode": {
    "name": "ipython",
    "version": 3
   },
   "file_extension": ".py",
   "mimetype": "text/x-python",
   "name": "python",
   "nbconvert_exporter": "python",
   "pygments_lexer": "ipython3",
   "version": "3.12.0"
  }
 },
 "nbformat": 4,
 "nbformat_minor": 5
}
