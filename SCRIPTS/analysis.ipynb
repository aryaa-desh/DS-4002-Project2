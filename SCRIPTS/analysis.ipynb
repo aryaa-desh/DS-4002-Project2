{
 "cells": [
  {
   "cell_type": "code",
   "execution_count": 1,
   "id": "8a6a3587",
   "metadata": {},
   "outputs": [],
   "source": [
    "# This script conducts analysis using a linear regression model.\n",
    "# Access to the preprocessed data csv (preprocessed_data.csv) is required for running this script."
   ]
  },
  {
   "cell_type": "code",
   "execution_count": 27,
   "id": "512fa1af",
   "metadata": {},
   "outputs": [],
   "source": [
    "# imports\n",
    "import pandas as pd\n",
    "import matplotlib.pyplot as plt\n",
    "from sklearn.linear_model import LinearRegression \n",
    "from sklearn.model_selection import train_test_split\n",
    "from sklearn.metrics import mean_squared_error, r2_score\n",
    "import numpy as np\n",
    "import statistics as stat"
   ]
  },
  {
   "cell_type": "code",
   "execution_count": 3,
   "id": "91051043",
   "metadata": {},
   "outputs": [],
   "source": [
    "# load in clean data\n",
    "data = pd.read_csv('preprocessed_data.csv')"
   ]
  },
  {
   "cell_type": "code",
   "execution_count": 4,
   "id": "4458c777",
   "metadata": {},
   "outputs": [],
   "source": [
    "# drop some of the rows that just categorize the states\n",
    "drop_list = ['Middle Atlantic', 'East North Central', 'West North Central', 'South Atlantic', 'East South Central', \n",
    "             'West South Central', 'Mountain', 'Pacific Contiguous', 'Pacific Noncontiguous']\n",
    "\n",
    "mask = ~data['State'].isin(drop_list)\n",
    "filtered_data = data[mask]"
   ]
  },
  {
   "cell_type": "code",
   "execution_count": 5,
   "id": "25466d3e",
   "metadata": {},
   "outputs": [],
   "source": [
    "# cutting hawaii and alaska as outliers\n",
    "drop_states = ['Hawaii', 'Alaska']\n",
    "\n",
    "mask = ~filtered_data['State'].isin(drop_list)\n",
    "test_data = filtered_data[mask]"
   ]
  },
  {
   "cell_type": "code",
   "execution_count": null,
   "id": "4ca0f799",
   "metadata": {},
   "outputs": [],
   "source": [
    "year_list  = ['2001', '2002', '2003', '2004', '2005', '2006', '2007', '2008', '2009', '2010', \n",
    " '2011', '2012', '2013', '2014', '2015', '2016', '2017', '2018', '2019', '2020', '2021', '2022', '2023', '2024', '2025']\n",
    "\n",
    "# making a Contiguous US average row to use\n",
    "# making a list of the average values \n",
    "av_dict = {'State': 'Cont United States'}\n",
    "for year in year_list:\n",
    "    av_dict.update({year : [np.nanmean(filtered_data[year].tolist())]})\n",
    "\n",
    "cont_us_row = pd.DataFrame.from_dict(av_dict)\n",
    "\n",
    "# adding the new row to the data frame\n",
    "filtered_data = pd.concat([filtered_data, cont_us_row], ignore_index= True )"
   ]
  },
  {
   "cell_type": "code",
   "execution_count": 9,
   "id": "1d3c6322",
   "metadata": {},
   "outputs": [],
   "source": [
    "# pulling out the years 2022-2025\n",
    "predict_yrs = filtered_data[['State', '2022', '2023', '2024', '2025']]"
   ]
  },
  {
   "cell_type": "code",
   "execution_count": 11,
   "id": "111ad2e4",
   "metadata": {},
   "outputs": [],
   "source": [
    "# making a dataframe without 2022-2025\n",
    "drop_cols = ['2022', '2023', '2024', '2025']\n",
    "test_data = filtered_data.drop(drop_cols, axis = 1)"
   ]
  },
  {
   "cell_type": "code",
   "execution_count": 12,
   "id": "4e1f8353",
   "metadata": {},
   "outputs": [],
   "source": [
    "# make a training and testing sets \n",
    "year_2000 = [1, 2, 3, 4, 5, 6, 7, 8, 9, 10, 11, 12, 13, 14, 15, 16, 17, 18, 19, 20, 21]\n",
    "\n",
    "x_train, x_test, y_train, y_test = train_test_split(year_2000, test_data.iloc[-1].tolist()[1:], test_size = 0.2)"
   ]
  },
  {
   "cell_type": "code",
   "execution_count": 13,
   "id": "452644ae",
   "metadata": {},
   "outputs": [],
   "source": [
    "# establish our linear regression model\n",
    "model = LinearRegression()"
   ]
  },
  {
   "cell_type": "code",
   "execution_count": 14,
   "id": "94fca579",
   "metadata": {},
   "outputs": [],
   "source": [
    "# reshape our x data since we need it to be 2D for the model\n",
    "x_train1 = np.array(x_train).reshape(-1, 1)\n",
    "x_test1 = np.array(x_test).reshape(-1, 1)"
   ]
  },
  {
   "cell_type": "code",
   "execution_count": 15,
   "id": "88c65b99",
   "metadata": {},
   "outputs": [],
   "source": [
    "# conduct the model fit\n",
    "reg = model.fit(x_train1, y_train)"
   ]
  },
  {
   "cell_type": "code",
   "execution_count": null,
   "id": "f9b8129b",
   "metadata": {},
   "outputs": [],
   "source": [
    "# predict the values for 2022-25\n",
    "x_data = [22, 23, 24, 25]\n",
    "x_data= np.array(x_data).reshape(-1, 1)\n",
    "predict_est = reg.predict(x_data)"
   ]
  },
  {
   "cell_type": "code",
   "execution_count": 20,
   "id": "627a9e61",
   "metadata": {},
   "outputs": [
    {
     "name": "stdout",
     "output_type": "stream",
     "text": [
      "[np.float64(16.21874214), np.float64(17.30165094), np.float64(17.64446541), np.float64(18.27070081)]\n"
     ]
    }
   ],
   "source": [
    "print(predict_yrs.iloc[-1].tolist()[1:])"
   ]
  },
  {
   "cell_type": "code",
   "execution_count": null,
   "id": "0fd0630c",
   "metadata": {},
   "outputs": [
    {
     "name": "stdout",
     "output_type": "stream",
     "text": [
      "[np.float64(4.848407403002516), np.float64(8.997191057178052), np.float64(8.993642599943406), np.float64(10.402001948026196)] 1.457603024381942\n"
     ]
    }
   ],
   "source": [
    "# calculating mse and percent error \n",
    "real_y = predict_yrs.iloc[-1].tolist()[1:]\n",
    "diff_list = [a - b for a, b in zip(real_y, predict_est)]\n",
    "mse = stat.mean(diff_list)\n",
    "per_error = [ (a * 100) / b for a, b in zip(diff_list, real_y)]\n",
    "print(per_error, mse)\n"
   ]
  },
  {
   "cell_type": "code",
   "execution_count": 24,
   "id": "9ec2d871",
   "metadata": {},
   "outputs": [
    {
     "data": {
      "text/plain": [
       "Text(0.5, 1.0, 'Linear Regression on Average Energy Cost in the Continental US')"
      ]
     },
     "execution_count": 24,
     "metadata": {},
     "output_type": "execute_result"
    },
    {
     "data": {
      "image/png": "[encoded data removed]",
      "text/plain": [
       "<Figure size 800x600 with 1 Axes>"
      ]
     },
     "metadata": {},
     "output_type": "display_data"
    }
   ],
   "source": [
    "# plotting our predicted values with their actual values \n",
    "# plt the linear regression with the original data \n",
    "plt.figure(figsize = (8, 6))\n",
    "plt.scatter([22, 23, 24, 25], real_y, color = 'black', label = 'True Cost')\n",
    "plt.plot([22, 23, 24, 25], predict_est, color = 'red', label = 'Predicted Value')\n",
    "plt.xlabel('Year Since 2000')\n",
    "plt.ylabel('Average Energy Cost in kw/hr')\n",
    "plt.title('Linear Regression on Average Energy Cost in the Continental US')"
   ]
  }
 ],
 "metadata": {
  "kernelspec": {
   "display_name": "pysparkenv",
   "language": "python",
   "name": "python3"
  },
  "language_info": {
   "codemirror_mode": {
    "name": "ipython",
    "version": 3
   },
   "file_extension": ".py",
   "mimetype": "text/x-python",
   "name": "python",
   "nbconvert_exporter": "python",
   "pygments_lexer": "ipython3",
   "version": "3.12.0"
  }
 },
 "nbformat": 4,
 "nbformat_minor": 5
}
